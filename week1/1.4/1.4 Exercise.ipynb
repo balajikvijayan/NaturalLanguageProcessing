{
 "cells": [
  {
   "cell_type": "code",
   "execution_count": 177,
   "metadata": {
    "collapsed": false
   },
   "outputs": [
    {
     "name": "stdout",
     "output_type": "stream",
     "text": [
      "['Five, ten, fifteen, twenty, twenty-five, thirty, thirty-five, forty, forty-five, fifty.', 'I would be sweet to him, I would be gay, I would be just the way I used to be, and then he would love me again.', 'Five, ten, fifteen, twenty, twenty-five, thirty, thirty-five, forty, forty-five, fifty, fifty-five.', \"I know, God, just as well as You do, that if he were worried about me, he'd telephone no matter where he was or how many people there were around him.\"]\n"
     ]
    }
   ],
   "source": [
    "import nltk\n",
    "import regex as re\n",
    "import operator\n",
    "\n",
    "def sentence_summary(filepath, n):\n",
    "    text = open(filepath, 'r').read()\n",
    "    words = nltk.word_tokenize(text.lower())\n",
    "    freq = dict(nltk.FreqDist(words))\n",
    "    pat = re.compile('([A-Z][^\\.!?]*[\\.!?])', re.M)\n",
    "    sentences = pat.findall(text)\n",
    "            \n",
    "    sentencevalue = {}\n",
    "    #loop through the sentences\n",
    "    for sent in sentences:\n",
    "        #set dictionary key to sentence, value to 0\n",
    "        sentencevalue[sent] = 0\n",
    "        #loop through the words\n",
    "        for word in nltk.word_tokenize(sent.lower()):\n",
    "            #add word score to sentence\n",
    "            sentencevalue[sent]+=freq[word]\n",
    "\n",
    "    nsentencevalue = sorted(sentencevalue.items(), key=operator.itemgetter(1))\n",
    "    index = []\n",
    "    answer = []\n",
    "    for z in xrange(n):\n",
    "        index.append(sentences.index(nsentencevalue[-n:][z][0]))\n",
    "    for y in sorted(index):\n",
    "        answer.append(sentences[y])\n",
    "    print answer\n",
    "sentence_summary(r'text.txt',4)"
   ]
  },
  {
   "cell_type": "code",
   "execution_count": null,
   "metadata": {
    "collapsed": true
   },
   "outputs": [],
   "source": []
  },
  {
   "cell_type": "code",
   "execution_count": null,
   "metadata": {
    "collapsed": true
   },
   "outputs": [],
   "source": []
  }
 ],
 "metadata": {
  "kernelspec": {
   "display_name": "Python 2",
   "language": "python",
   "name": "python2"
  },
  "language_info": {
   "codemirror_mode": {
    "name": "ipython",
    "version": 2
   },
   "file_extension": ".py",
   "mimetype": "text/x-python",
   "name": "python",
   "nbconvert_exporter": "python",
   "pygments_lexer": "ipython2",
   "version": "2.7.8"
  }
 },
 "nbformat": 4,
 "nbformat_minor": 0
}
