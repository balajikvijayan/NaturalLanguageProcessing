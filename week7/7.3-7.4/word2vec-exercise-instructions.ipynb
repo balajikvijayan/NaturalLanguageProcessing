{
 "cells": [
  {
   "cell_type": "markdown",
   "metadata": {},
   "source": [
    "# Pair Coding Exercise for word2vec\n",
    "\n",
    "##Goals:\n",
    "1. Apply word2vec to data set with Python's Genism package\n",
    "3. Learn how to enter Kaggle contest\n",
    "\n",
    "Work through [Bag of Words Meets Bags of Popcorn](https://www.kaggle.com/c/word2vec-nlp-tutorial) on Thursday and Friday. Present results and learnings on Friday."
   ]
  },
  {
   "cell_type": "markdown",
   "metadata": {},
   "source": [
    "## Suggested Steps\n",
    "1. Read _Description_, _Evaluation_, _Rules_\n",
    "2. Clone sample code. (Hint: `git clone https://github.com/wendykan/DeepLearningMovies.git`)\n",
    "3. Work through Part 1-4\n",
    "4. Tune and submit your own models."
   ]
  },
  {
   "cell_type": "markdown",
   "metadata": {
    "collapsed": true
   },
   "source": [
    "## Notes:\n",
    "- Competition is closed. You won't be enters but can be scored. Let's keep the limit to 5 entries.\n",
    "- Start very basic try to get better.\n",
    "- Other resources (on jump drive):\n",
    "    + Small training set \"text8\"\n",
    "    + [Pretrained vectors](https://code.google.com/p/word2vec/#Pre-trained_word_and_phrase_vectors)"
   ]
  }
 ],
 "metadata": {
  "kernelspec": {
   "display_name": "Python 2",
   "language": "python",
   "name": "python2"
  },
  "language_info": {
   "codemirror_mode": {
    "name": "ipython",
    "version": 2
   },
   "file_extension": ".py",
   "mimetype": "text/x-python",
   "name": "python",
   "nbconvert_exporter": "python",
   "pygments_lexer": "ipython2",
   "version": "2.7.10"
  }
 },
 "nbformat": 4,
 "nbformat_minor": 0
}
