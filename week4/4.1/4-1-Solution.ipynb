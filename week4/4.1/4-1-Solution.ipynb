{
 "cells": [
  {
   "cell_type": "code",
   "execution_count": 15,
   "metadata": {
    "collapsed": true
   },
   "outputs": [],
   "source": [
    "import numpy as np\n",
    "from sklearn.datasets import load_files\n",
    "from sklearn.cross_validation import train_test_split\n",
    "from sklearn.cross_validation import KFold\n",
    "from sklearn.feature_extraction.text import CountVectorizer\n",
    "from sklearn.naive_bayes import MultinomialNB\n",
    "from sklearn.metrics import f1_score"
   ]
  },
  {
   "cell_type": "code",
   "execution_count": 16,
   "metadata": {
    "collapsed": false
   },
   "outputs": [
    {
     "data": {
      "text/plain": [
       "['neg', 'pos']"
      ]
     },
     "execution_count": 16,
     "metadata": {},
     "output_type": "execute_result"
    }
   ],
   "source": [
    "sentiment = load_files('sentiment/data/imdb1/', random_state=41)\n",
    "sentiment.target_names"
   ]
  },
  {
   "cell_type": "code",
   "execution_count": 17,
   "metadata": {
    "collapsed": true
   },
   "outputs": [],
   "source": [
    "train_data, test_data, train_target, test_target = train_test_split(sentiment.data, sentiment.target, random_state=41)"
   ]
  },
  {
   "cell_type": "code",
   "execution_count": 18,
   "metadata": {
    "collapsed": true
   },
   "outputs": [],
   "source": [
    "vectorizer = CountVectorizer()\n",
    "vectorized_train_data = vectorizer.fit_transform(train_data)"
   ]
  },
  {
   "cell_type": "code",
   "execution_count": 19,
   "metadata": {
    "collapsed": false
   },
   "outputs": [
    {
     "data": {
      "text/plain": [
       "35441"
      ]
     },
     "execution_count": 19,
     "metadata": {},
     "output_type": "execute_result"
    }
   ],
   "source": [
    "len(vectorizer.vocabulary_)"
   ]
  },
  {
   "cell_type": "code",
   "execution_count": 20,
   "metadata": {
    "collapsed": false
   },
   "outputs": [
    {
     "data": {
      "text/plain": [
       "MultinomialNB(alpha=1.0, class_prior=None, fit_prior=True)"
      ]
     },
     "execution_count": 20,
     "metadata": {},
     "output_type": "execute_result"
    }
   ],
   "source": [
    "clf = MultinomialNB()\n",
    "clf.fit(vectorized_train_data, train_target)"
   ]
  },
  {
   "cell_type": "code",
   "execution_count": 21,
   "metadata": {
    "collapsed": false
   },
   "outputs": [
    {
     "data": {
      "text/plain": [
       "0.81799999999999995"
      ]
     },
     "execution_count": 21,
     "metadata": {},
     "output_type": "execute_result"
    }
   ],
   "source": [
    "clf.score(vectorizer.transform(test_data), test_target)"
   ]
  },
  {
   "cell_type": "code",
   "execution_count": 22,
   "metadata": {
    "collapsed": false
   },
   "outputs": [
    {
     "name": "stdout",
     "output_type": "stream",
     "text": [
      "0.819047619048\n",
      "0.816143497758\n",
      "0.85\n",
      "0.782608695652\n",
      "0.835978835979\n",
      "0.78612716763\n",
      "0.817777777778\n",
      "0.788571428571\n",
      "0.78021978022\n",
      "0.820754716981\n"
     ]
    }
   ],
   "source": [
    "f1s = []\n",
    "kf = KFold(len(sentiment.data), n_folds=10)\n",
    "for train, test in kf:\n",
    "    train_fold = [sentiment.data[i] for i in train]\n",
    "    test_fold = [sentiment.data[i] for i in test]\n",
    "    vectorized_train_data = vectorizer.fit_transform(train_fold)\n",
    "    clf.fit(vectorized_train_data, sentiment.target[train])\n",
    "    y_pred = clf.predict(vectorizer.transform(test_fold))\n",
    "    f1 = f1_score(sentiment.target[test], y_pred)\n",
    "    print f1\n",
    "    f1s.append(f1)"
   ]
  },
  {
   "cell_type": "code",
   "execution_count": 23,
   "metadata": {
    "collapsed": false
   },
   "outputs": [
    {
     "data": {
      "text/plain": [
       "0.80972295196166522"
      ]
     },
     "execution_count": 23,
     "metadata": {},
     "output_type": "execute_result"
    }
   ],
   "source": [
    "np.mean(f1s)"
   ]
  },
  {
   "cell_type": "code",
   "execution_count": 24,
   "metadata": {
    "collapsed": false
   },
   "outputs": [
    {
     "name": "stdout",
     "output_type": "stream",
     "text": [
      "0.819047619048\n",
      "0.821428571429\n",
      "0.847290640394\n",
      "0.778378378378\n",
      "0.789189189189\n",
      "0.78612716763\n",
      "0.826666666667\n",
      "0.784090909091\n",
      "0.780748663102\n",
      "0.816901408451\n"
     ]
    }
   ],
   "source": [
    "vectorizer2 = CountVectorizer(stop_words = 'english')\n",
    "clf2 = MultinomialNB()\n",
    "\n",
    "f1s2 = []\n",
    "for train, test in KFold(len(sentiment.data), n_folds=10):\n",
    "    train_fold = [sentiment.data[i] for i in train]\n",
    "    test_fold = [sentiment.data[i] for i in test]\n",
    "    vectorized_train_data = vectorizer2.fit_transform(train_fold)\n",
    "    clf2.fit(vectorized_train_data, sentiment.target[train])\n",
    "    y_pred = clf2.predict(vectorizer2.transform(test_fold))\n",
    "    f1 = f1_score(sentiment.target[test], y_pred)\n",
    "    print f1\n",
    "    f1s2.append(f1)"
   ]
  },
  {
   "cell_type": "code",
   "execution_count": 25,
   "metadata": {
    "collapsed": false
   },
   "outputs": [
    {
     "data": {
      "text/plain": [
       "0.80498692133777894"
      ]
     },
     "execution_count": 25,
     "metadata": {},
     "output_type": "execute_result"
    }
   ],
   "source": [
    "np.mean(f1s2)"
   ]
  }
 ],
 "metadata": {
  "kernelspec": {
   "display_name": "Python 2",
   "language": "python",
   "name": "python2"
  },
  "language_info": {
   "codemirror_mode": {
    "name": "ipython",
    "version": 2
   },
   "file_extension": ".py",
   "mimetype": "text/x-python",
   "name": "python",
   "nbconvert_exporter": "python",
   "pygments_lexer": "ipython2",
   "version": "2.7.10"
  }
 },
 "nbformat": 4,
 "nbformat_minor": 0
}
