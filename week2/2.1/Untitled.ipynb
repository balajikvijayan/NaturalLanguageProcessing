{
 "cells": [
  {
   "cell_type": "markdown",
   "metadata": {},
   "source": [
    "##1. Change making problem\n",
    "\n",
    "The objective of this part of the exercise is to introduce the concept of dynamic program and to see how the principles of recursion works. We will motivate Dynamic Programming through the change making problem. The objective is to determine the smallest number of coins (of particular denomination) required to make change for a given amount. For example, if the denomination of the coins are \\$1 and \\$2 and it was required to make change for \\$3 then we would use \\$1 + \\$2 i.e. 2 coins. However if the amount was \\$4 then we would could either use \\$1+\\$1+\\$1+\\$1 or \\$1+\\$1+\\$2 or \\$2+\\$2 and the minimum number of coins would 2 (\\$2+\\$2). We can come to the solution by understand ing the fact, that the mininum number of coins required to make change for \\$P is the number of coins required to make change for the amount \\$P-x plus 1 (+1 because we need another coin to get us from \\$P-x to P). These can be illustrated mathematically as :\n",
    "\n",
    "Let us assume that we have $n$ coins of distinct denomination. Where the denomination of coin $i$ is $v_i$. We can sort the coins according to denomination values such that $v_1<v_2<v_3<..<v_n$\n",
    "\n",
    "Let us use $C(p)$ to denote the minimum number of coins required to make change for $ \\$p$\n",
    "\n",
    "Using the principles of recursion $C(p)=min_i C(p-v_i)+1$\n",
    "\n",
    "For example, assume we want to make 5 cents, and $v_1=1, v_2=2, v_3=3$. Therefore $C(5) = min(C(5-1)+1, C(5-2)+1, C(5-3)+1)$\n",
    "$\\Longrightarrow min(C(4)+1, C(3)+1, C(2)+1)$"
   ]
  },
  {
   "cell_type": "code",
   "execution_count": 1,
   "metadata": {
    "collapsed": false
   },
   "outputs": [
    {
     "name": "stdout",
     "output_type": "stream",
     "text": [
      "[10000, 10000, 10000, 10000, 100, 100, 50, 5, 1, 0.25, 0.25]\n"
     ]
    }
   ],
   "source": [
    "import math\n",
    "from __future__ import division\n",
    "\n",
    "coin_list = [10000,100,50,20,10,5,1,.25]\n",
    "value = 40256.50\n",
    "def make_change(coin_list, dollar_value):\n",
    "    output =[]\n",
    "    while dollar_value > 0:\n",
    "        for i in coin_list:\n",
    "            num = math.floor(dollar_value/i)\n",
    "            if num > 0:\n",
    "                output.extend([i]*int(num))\n",
    "                dollar_value -= i*num\n",
    "    return output\n",
    "    \n",
    "print make_change(coin_list,value)"
   ]
  },
  {
   "cell_type": "code",
   "execution_count": 50,
   "metadata": {
    "collapsed": false
   },
   "outputs": [
    {
     "data": {
      "text/plain": [
       "[100, 50, 5, 1, 1, 0.25, 0.25, 0.25]"
      ]
     },
     "execution_count": 50,
     "metadata": {},
     "output_type": "execute_result"
    }
   ],
   "source": [
    "import math\n",
    "from __future__ import division\n",
    "\n",
    "coin_list = [100,50,20,10,5,1,.25]\n",
    "value = 157.75\n",
    "output = []\n",
    "\n",
    "def rmake_change(coin_list, dollar_value,output):\n",
    "    coin = coin_list.pop(0)\n",
    "    num = math.floor(dollar_value / coin)\n",
    "    output.extend([coin]*int(num))\n",
    "\n",
    "    if dollar_value - (coin * num) > 0:\n",
    "        return rmake_change(coin_list,dollar_value - (coin * num), output)\n",
    "    else:\n",
    "        return output\n",
    "\n",
    "rmake_change(coin_list,value,output)"
   ]
  },
  {
   "cell_type": "markdown",
   "metadata": {
    "collapsed": true
   },
   "source": [
    "##2. Levenshtein Distance, cost of substitution = 2\n",
    "\n",
    "In the lectures we saw that we can play with the cost of substitution. In other words, changing a letter in a word is more expensive than shifting its position. The edit_distance function in nltk.metrics.distance assumes a substitution cost of 1. In this excercise we will use dynamic program and change the cost of substitution. The idea is to start from:"
   ]
  },
  {
   "cell_type": "code",
   "execution_count": 46,
   "metadata": {
    "collapsed": false
   },
   "outputs": [
    {
     "name": "stdout",
     "output_type": "stream",
     "text": [
      "8\n"
     ]
    }
   ],
   "source": [
    "def levenshtein(s1, s2, cost_sub): ## creating a function that takes two words and a cost of substitution\n",
    "    if len(s1) < len(s2): ## if one word is shorter than the other then change the order (book keeping to be consistent)\n",
    "        return levenshtein(s2, s1, cost_sub)\n",
    "\n",
    "    # len(s1) >= len(s2)\n",
    "    if len(s2) == 0: ##another check to make sure we are getting a real word, \n",
    "        ##if we are not getting a real word the cost is simply dropping all the letters in one of the words i.e. the length\n",
    "\n",
    "        return len(s1)\n",
    "\n",
    "    previous_row = range(len(s2) + 1) ##initialization ; creating an array of length of the second word+1\n",
    "    for i in range(len(s1)): ## going through each element of the first word \n",
    "        c1=s1[i] ## the particular letter being considered \n",
    "        current_row = [i + 1]\n",
    "        for j in range(len(s2)):\n",
    "            c2=s2[j]\n",
    "            insertions = previous_row[j + 1] + 1 \n",
    "            deletions = current_row[-1] + 1\n",
    "            if c1 == c2:\n",
    "                substitutions = previous_row[j]\n",
    "            else:\n",
    "                substitutions = previous_row[j]+cost_sub\n",
    "            ##WRITE CODE TO DETEMINE DELETIONS     \n",
    "            ##WRITE CODE TO DETEMINE SUBSTITUTION\n",
    "            current_row.append(min(insertions, deletions, substitutions))\n",
    "        previous_row = current_row\n",
    "\n",
    "    return previous_row[-1]\n",
    "\n",
    "print levenshtein('intention','execution',cost_sub=4)"
   ]
  },
  {
   "cell_type": "code",
   "execution_count": null,
   "metadata": {
    "collapsed": true
   },
   "outputs": [],
   "source": []
  }
 ],
 "metadata": {
  "kernelspec": {
   "display_name": "Python 2",
   "language": "python",
   "name": "python2"
  },
  "language_info": {
   "codemirror_mode": {
    "name": "ipython",
    "version": 2
   },
   "file_extension": ".py",
   "mimetype": "text/x-python",
   "name": "python",
   "nbconvert_exporter": "python",
   "pygments_lexer": "ipython2",
   "version": "2.7.8"
  }
 },
 "nbformat": 4,
 "nbformat_minor": 0
}
